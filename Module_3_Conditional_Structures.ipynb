{
  "nbformat": 4,
  "nbformat_minor": 0,
  "metadata": {
    "colab": {
      "provenance": [],
      "collapsed_sections": [
        "JG1HL69-j0lH",
        "s_Dj-BgThLg5",
        "jeEzLmuRhDQy",
        "PoTeRwlihDQ0",
        "QpMlxqRyhDQ1",
        "ov7Fg-mWhDQ1",
        "DvHPNAoPgdiG",
        "3SMp5GwjglJm",
        "e3ieQfXTgqd3",
        "L0pKWNr5fm9z",
        "DMhCpOU_gupo",
        "l3h0WP2Eg2ht",
        "rWG4Vk6XaWtf",
        "wkibgd8rB8y3",
        "IjPaJtnYE0MI",
        "2lpj1rszc--m",
        "HnWg_mhLd5gC",
        "RhqmXiHQo-is",
        "SvT9xrajLL7J",
        "91eSyA2cLLqv"
      ],
      "toc_visible": true,
      "include_colab_link": true
    },
    "kernelspec": {
      "name": "python3",
      "display_name": "Python 3"
    }
  },
  "cells": [
    {
      "cell_type": "markdown",
      "metadata": {
        "id": "view-in-github",
        "colab_type": "text"
      },
      "source": [
        "<a href=\"https://colab.research.google.com/github/ProMenge/StudyingPy/blob/main/Module_3_Conditional_Structures.ipynb\" target=\"_parent\"><img src=\"https://colab.research.google.com/assets/colab-badge.svg\" alt=\"Open In Colab\"/></a>"
      ]
    },
    {
      "cell_type": "markdown",
      "metadata": {
        "id": "d9jDtUbDOE1-"
      },
      "source": [
        "# **Tópicos**\n",
        "\n",
        "<ol type=\"1\">\n",
        "  <li>Estrutura condicional if / else / elif;</li>\n",
        "  <li>Estrutura condicional try / catch / finally;</li>\n",
        "  <li>Estrutura de repetição for / in.</li>\n",
        "</ol>"
      ]
    },
    {
      "cell_type": "markdown",
      "metadata": {
        "id": "SmoHgt-lwkpD"
      },
      "source": [
        "---"
      ]
    },
    {
      "cell_type": "markdown",
      "metadata": {
        "id": "GABI6OW8OfQ2"
      },
      "source": [
        "# **Aulas**"
      ]
    },
    {
      "cell_type": "markdown",
      "metadata": {
        "id": "muD1vxozykSC"
      },
      "source": [
        "## 1\\. Estrutura condicional if / else / elif"
      ]
    },
    {
      "cell_type": "markdown",
      "metadata": {
        "id": "E6D5rjlESJ1A"
      },
      "source": [
        "### **1.1. if / else**"
      ]
    },
    {
      "cell_type": "markdown",
      "metadata": {
        "id": "2SIVm6ySRaeI"
      },
      "source": [
        "Estrutura de alteração de fluxo lógico do código, avalia um valor booleano ou uma comparação lógica. **Note** a identação do código."
      ]
    },
    {
      "cell_type": "markdown",
      "metadata": {
        "id": "jfrmdxoJVw-l"
      },
      "source": [
        "```python\n",
        "if <booleano / comparação lógica> == True:\n",
        "  <execute este código>\n",
        "else:\n",
        "  <senão execute este código>\n",
        "```"
      ]
    },
    {
      "cell_type": "code",
      "metadata": {
        "id": "7tNcqW3aTZPr",
        "colab": {
          "base_uri": "https://localhost:8080/"
        },
        "outputId": "4754d20c-7a35-4551-bcaa-6d6aebd64390"
      },
      "source": [
        "if False:\n",
        "  print(\"Verdadeiro\")\n",
        "else:\n",
        "  print(\"Falso\")"
      ],
      "execution_count": 1,
      "outputs": [
        {
          "output_type": "stream",
          "name": "stdout",
          "text": [
            "Falso\n"
          ]
        }
      ]
    },
    {
      "cell_type": "markdown",
      "metadata": {
        "id": "e3h_XvXxTSqd"
      },
      "source": [
        "**Exemplo**: Código de segurança de um cartão de crédito"
      ]
    },
    {
      "cell_type": "code",
      "metadata": {
        "id": "3ungC6KPSg1y",
        "colab": {
          "base_uri": "https://localhost:8080/"
        },
        "outputId": "d1b5e4f0-3f9e-4330-a45b-96bba6842463"
      },
      "source": [
        "codigo_de_seguranca = '291'\n",
        "codigo_de_seguranca_cadastro = '010'\n",
        "\n",
        "pode_efetuar_pagamento = codigo_de_seguranca == codigo_de_seguranca_cadastro\n",
        "print(pode_efetuar_pagamento)"
      ],
      "execution_count": 2,
      "outputs": [
        {
          "output_type": "stream",
          "name": "stdout",
          "text": [
            "False\n"
          ]
        }
      ]
    },
    {
      "cell_type": "code",
      "metadata": {
        "id": "5vpLILeASoNz",
        "colab": {
          "base_uri": "https://localhost:8080/"
        },
        "outputId": "ef72ac97-6bf2-4937-aee5-c1e6bcf480b9"
      },
      "source": [
        "if pode_efetuar_pagamento:\n",
        "  print(\"Pagamento efetuado\")\n",
        "else:\n",
        "  print(\"Erro: Código de segurança inválido\")"
      ],
      "execution_count": 3,
      "outputs": [
        {
          "output_type": "stream",
          "name": "stdout",
          "text": [
            "Erro: Código de segurança inválido\n"
          ]
        }
      ]
    },
    {
      "cell_type": "code",
      "metadata": {
        "id": "oj76sTo-Ttz8",
        "colab": {
          "base_uri": "https://localhost:8080/"
        },
        "outputId": "d58f2593-dab4-4661-b76c-5cf45836a635"
      },
      "source": [
        "if codigo_de_seguranca == codigo_de_seguranca_cadastro:\n",
        "  print(\"Pagamento efetuado\")\n",
        "else:\n",
        "  print(\"Erro: Código de segurança inválido\")"
      ],
      "execution_count": 4,
      "outputs": [
        {
          "output_type": "stream",
          "name": "stdout",
          "text": [
            "Erro: Código de segurança inválido\n"
          ]
        }
      ]
    },
    {
      "cell_type": "markdown",
      "metadata": {
        "id": "zvvqNNM1UDzh"
      },
      "source": [
        "**Exemplo**: Código e senha de segurança de um cartão de crédito"
      ]
    },
    {
      "cell_type": "code",
      "metadata": {
        "id": "42kdrjL3UPnt"
      },
      "source": [
        "codigo_de_seguranca = '852'\n",
        "codigo_de_seguranca_cadastro = '852'\n",
        "\n",
        "senha = '7783'\n",
        "senha_cadastro = '7783'"
      ],
      "execution_count": 6,
      "outputs": []
    },
    {
      "cell_type": "markdown",
      "metadata": {
        "id": "tvmgUmH5UZlj"
      },
      "source": [
        "Revisitando a tabela da verdade:"
      ]
    },
    {
      "cell_type": "markdown",
      "metadata": {
        "id": "CMkW6VfqUX73"
      },
      "source": [
        "| CÓDIGO        | SENHA        | | | CÓDIGO OR SENHA   | | CÓDIGO AND SENHA  | | NOT CÓDIGO    |\n",
        "|----------|----------|-|-|----------|-|----------|-|----------|\n",
        "| **TRUE** | **TRUE** | | | **TRUE** | | **TRUE** | | FALSE    |\n",
        "| **TRUE** | FALSE    | | | **TRUE** | | FALSE    | | FALSE    |\n",
        "| FALSE    | FALSE    | | | FALSE    | | FALSE    | | **TRUE** |\n",
        "| FALSE    | **TRUE** | | | **TRUE** | | FALSE    | | **TRUE** |"
      ]
    },
    {
      "cell_type": "code",
      "metadata": {
        "id": "ypis6-LgUn5z",
        "colab": {
          "base_uri": "https://localhost:8080/"
        },
        "outputId": "a18f2c44-ae3c-4a49-e806-0a2246cd189f"
      },
      "source": [
        "if (codigo_de_seguranca == codigo_de_seguranca_cadastro) & (senha == senha_cadastro):\n",
        "  print(\"Pagamento efetuado\")\n",
        "else:\n",
        "  print(\"Erro: Pagamento não efetuado\")"
      ],
      "execution_count": 7,
      "outputs": [
        {
          "output_type": "stream",
          "name": "stdout",
          "text": [
            "Pagamento efetuado\n"
          ]
        }
      ]
    },
    {
      "cell_type": "code",
      "metadata": {
        "id": "DCCPknUSUwQM",
        "colab": {
          "base_uri": "https://localhost:8080/"
        },
        "outputId": "3f6cdb9b-dea6-4bdb-bc7d-07e89b615445"
      },
      "source": [
        "if (codigo_de_seguranca != codigo_de_seguranca_cadastro) | (senha != senha_cadastro):\n",
        "  print(\"Erro: Pagamento não efetuado\")\n",
        "else:\n",
        "  print(\"Pagamento efetuado\")"
      ],
      "execution_count": 8,
      "outputs": [
        {
          "output_type": "stream",
          "name": "stdout",
          "text": [
            "Pagamento efetuado\n"
          ]
        }
      ]
    },
    {
      "cell_type": "markdown",
      "metadata": {
        "id": "wNkFG1qKSU9M"
      },
      "source": [
        "### **1.2. if / elif / else**"
      ]
    },
    {
      "cell_type": "markdown",
      "metadata": {
        "id": "9c-GagIqSjUA"
      },
      "source": [
        "Podemos também avaliar múltipla condições."
      ]
    },
    {
      "cell_type": "markdown",
      "metadata": {
        "id": "G66Dxs8pWXPU"
      },
      "source": [
        "```python\n",
        "if <1º booleano / 1ª comparação lógica> == True:\n",
        "  <execute este código se a primeira condição for verdade>\n",
        "elif <2º booleano / 2ª comparação lógica> == True:\n",
        "  <execute este código se a segunda condição for verdade>\n",
        "else:\n",
        "  <senão execute este código>\n",
        "```"
      ]
    },
    {
      "cell_type": "code",
      "metadata": {
        "id": "bLDeLzLxSnwP"
      },
      "source": [
        "codigo_de_seguranca = '802'\n",
        "codigo_de_seguranca_cadastro = '852'\n",
        "\n",
        "senha = '7783'\n",
        "senha_cadastro = '7783'"
      ],
      "execution_count": 12,
      "outputs": []
    },
    {
      "cell_type": "markdown",
      "metadata": {
        "id": "e982wq8XTq49"
      },
      "source": [
        "| CÓDIGO        | SENHA        | | | CÓDIGO AND SENHA  | MENSAGEM |\n",
        "|----------|----------|-|-|----------|-|\n",
        "| **TRUE** | **TRUE** | | | **TRUE** | Pagamento efetuado |\n",
        "| **TRUE** | FALSE    | | | FALSE    | Erro: Senha inválida |\n",
        "| FALSE    | FALSE    | | | FALSE    | Erro: Código de segurança e senha inválidos |\n",
        "| FALSE    | **TRUE** | | | FALSE    | Erro: Código de segurança inválido |"
      ]
    },
    {
      "cell_type": "code",
      "metadata": {
        "id": "rbjgy-XSSy8w",
        "colab": {
          "base_uri": "https://localhost:8080/"
        },
        "outputId": "b01bf9b9-b292-4964-b222-805a89c120e7"
      },
      "source": [
        "if (codigo_de_seguranca == codigo_de_seguranca_cadastro) & (senha == senha_cadastro):\n",
        "  print(\"Pagamento efetuado\")\n",
        "\n",
        "elif (codigo_de_seguranca != codigo_de_seguranca_cadastro) & (senha == senha_cadastro):\n",
        "  print(\"Erro: Código de segurança inválido\")\n",
        "\n",
        "elif (codigo_de_seguranca == codigo_de_seguranca_cadastro) & (senha != senha_cadastro):\n",
        "  print(\"Erro: Senha inválida inválida\")\n",
        "\n",
        "else:\n",
        "  print(\"Erro: Código de segurança e senha inválidos\")"
      ],
      "execution_count": 13,
      "outputs": [
        {
          "output_type": "stream",
          "name": "stdout",
          "text": [
            "Erro: Código de segurança inválido\n"
          ]
        }
      ]
    },
    {
      "cell_type": "markdown",
      "metadata": {
        "id": "4rRCvy_UURrM"
      },
      "source": [
        "## 2\\. Estrutura condicional try /except / finally"
      ]
    },
    {
      "cell_type": "markdown",
      "metadata": {
        "id": "cOZDKbe6URrb"
      },
      "source": [
        "### **2.1. Exceção**"
      ]
    },
    {
      "cell_type": "markdown",
      "metadata": {
        "id": "nfc742pLmgL9"
      },
      "source": [
        "Exceções são erros que podem acontecer durante a execução do nosso código."
      ]
    },
    {
      "cell_type": "markdown",
      "metadata": {
        "id": "0je_kLq_myEV"
      },
      "source": [
        "**Exemplo**: Erro de operações numéricas impossíveis"
      ]
    },
    {
      "cell_type": "code",
      "metadata": {
        "id": "2yXpo2dfmm1T"
      },
      "source": [
        "preco = 132.85\n",
        "pessoas = 0"
      ],
      "execution_count": 14,
      "outputs": []
    },
    {
      "cell_type": "code",
      "metadata": {
        "id": "LsrxSe--nI6b",
        "colab": {
          "base_uri": "https://localhost:8080/",
          "height": 147
        },
        "outputId": "abb71106-e992-4edb-89eb-608d8038089d"
      },
      "source": [
        "valor_por_pessoa = preco / pessoas"
      ],
      "execution_count": 15,
      "outputs": [
        {
          "output_type": "error",
          "ename": "ZeroDivisionError",
          "evalue": "float division by zero",
          "traceback": [
            "\u001b[0;31m---------------------------------------------------------------------------\u001b[0m",
            "\u001b[0;31mZeroDivisionError\u001b[0m                         Traceback (most recent call last)",
            "\u001b[0;32m<ipython-input-15-995750ad573d>\u001b[0m in \u001b[0;36m<cell line: 0>\u001b[0;34m()\u001b[0m\n\u001b[0;32m----> 1\u001b[0;31m \u001b[0mvalor_por_pessoa\u001b[0m \u001b[0;34m=\u001b[0m \u001b[0mpreco\u001b[0m \u001b[0;34m/\u001b[0m \u001b[0mpessoas\u001b[0m\u001b[0;34m\u001b[0m\u001b[0;34m\u001b[0m\u001b[0m\n\u001b[0m",
            "\u001b[0;31mZeroDivisionError\u001b[0m: float division by zero"
          ]
        }
      ]
    },
    {
      "cell_type": "markdown",
      "metadata": {
        "id": "paZfxkVzm3gW"
      },
      "source": [
        "**Exemplo**: Erro por combinações de tipos diferentes"
      ]
    },
    {
      "cell_type": "code",
      "metadata": {
        "id": "rrlR9Xv6nErH"
      },
      "source": [
        "nome = 'Andre Perez'\n",
        "idade = True"
      ],
      "execution_count": null,
      "outputs": []
    },
    {
      "cell_type": "code",
      "metadata": {
        "id": "IT3ySwYxnX0j",
        "colab": {
          "base_uri": "https://localhost:8080/",
          "height": 147
        },
        "outputId": "76caf77f-266e-455f-f870-67d340b8fc5b"
      },
      "source": [
        "apresentacao = 'Fala pessoal, meu nome é ' + nome + ' e eu tenho ' + idade + ' anos'"
      ],
      "execution_count": 16,
      "outputs": [
        {
          "output_type": "error",
          "ename": "NameError",
          "evalue": "name 'nome' is not defined",
          "traceback": [
            "\u001b[0;31m---------------------------------------------------------------------------\u001b[0m",
            "\u001b[0;31mNameError\u001b[0m                                 Traceback (most recent call last)",
            "\u001b[0;32m<ipython-input-16-4da5a38e4d90>\u001b[0m in \u001b[0;36m<cell line: 0>\u001b[0;34m()\u001b[0m\n\u001b[0;32m----> 1\u001b[0;31m \u001b[0mapresentacao\u001b[0m \u001b[0;34m=\u001b[0m \u001b[0;34m'Fala pessoal, meu nome é '\u001b[0m \u001b[0;34m+\u001b[0m \u001b[0mnome\u001b[0m \u001b[0;34m+\u001b[0m \u001b[0;34m' e eu tenho '\u001b[0m \u001b[0;34m+\u001b[0m \u001b[0midade\u001b[0m \u001b[0;34m+\u001b[0m \u001b[0;34m' anos'\u001b[0m\u001b[0;34m\u001b[0m\u001b[0;34m\u001b[0m\u001b[0m\n\u001b[0m",
            "\u001b[0;31mNameError\u001b[0m: name 'nome' is not defined"
          ]
        }
      ]
    },
    {
      "cell_type": "markdown",
      "metadata": {
        "id": "PdIsskJNnors"
      },
      "source": [
        "**Exemplo**: Erro de indexação de estrutura de dados"
      ]
    },
    {
      "cell_type": "code",
      "metadata": {
        "id": "AL0YPYtqntUc"
      },
      "source": [
        "anos = [2019, 2020, 2021]"
      ],
      "execution_count": 17,
      "outputs": []
    },
    {
      "cell_type": "code",
      "metadata": {
        "id": "1mksjF3inyub",
        "colab": {
          "base_uri": "https://localhost:8080/",
          "height": 147
        },
        "outputId": "92f99fec-64f3-40c6-fc3e-4da6cc0ada82"
      },
      "source": [
        "ano_atual = anos[3]"
      ],
      "execution_count": 18,
      "outputs": [
        {
          "output_type": "error",
          "ename": "IndexError",
          "evalue": "list index out of range",
          "traceback": [
            "\u001b[0;31m---------------------------------------------------------------------------\u001b[0m",
            "\u001b[0;31mIndexError\u001b[0m                                Traceback (most recent call last)",
            "\u001b[0;32m<ipython-input-18-e37dd3828529>\u001b[0m in \u001b[0;36m<cell line: 0>\u001b[0;34m()\u001b[0m\n\u001b[0;32m----> 1\u001b[0;31m \u001b[0mano_atual\u001b[0m \u001b[0;34m=\u001b[0m \u001b[0manos\u001b[0m\u001b[0;34m[\u001b[0m\u001b[0;36m3\u001b[0m\u001b[0;34m]\u001b[0m\u001b[0;34m\u001b[0m\u001b[0;34m\u001b[0m\u001b[0m\n\u001b[0m",
            "\u001b[0;31mIndexError\u001b[0m: list index out of range"
          ]
        }
      ]
    },
    {
      "cell_type": "code",
      "metadata": {
        "id": "RhjOE1jCn4ZA"
      },
      "source": [
        "cursos = {\n",
        "    'python': {\n",
        "        'nome': 'Python para Análise de Dados', 'duracao': 2.5\n",
        "    },\n",
        "    'sql': {\n",
        "        'nome': 'SQL para Análise de Dados', 'duracao': 2\n",
        "    }\n",
        "}"
      ],
      "execution_count": 19,
      "outputs": []
    },
    {
      "cell_type": "code",
      "metadata": {
        "id": "hUl1PmAAoSqt",
        "colab": {
          "base_uri": "https://localhost:8080/",
          "height": 147
        },
        "outputId": "c4712275-186c-46e3-a0ec-7eda31656c90"
      },
      "source": [
        "curso_atual = cursos['analista']"
      ],
      "execution_count": 20,
      "outputs": [
        {
          "output_type": "error",
          "ename": "KeyError",
          "evalue": "'analista'",
          "traceback": [
            "\u001b[0;31m---------------------------------------------------------------------------\u001b[0m",
            "\u001b[0;31mKeyError\u001b[0m                                  Traceback (most recent call last)",
            "\u001b[0;32m<ipython-input-20-d358cf5eaea4>\u001b[0m in \u001b[0;36m<cell line: 0>\u001b[0;34m()\u001b[0m\n\u001b[0;32m----> 1\u001b[0;31m \u001b[0mcurso_atual\u001b[0m \u001b[0;34m=\u001b[0m \u001b[0mcursos\u001b[0m\u001b[0;34m[\u001b[0m\u001b[0;34m'analista'\u001b[0m\u001b[0;34m]\u001b[0m\u001b[0;34m\u001b[0m\u001b[0;34m\u001b[0m\u001b[0m\n\u001b[0m",
            "\u001b[0;31mKeyError\u001b[0m: 'analista'"
          ]
        }
      ]
    },
    {
      "cell_type": "markdown",
      "metadata": {
        "id": "5q6xcwOWURrc"
      },
      "source": [
        "### **2.2. try / except**"
      ]
    },
    {
      "cell_type": "markdown",
      "metadata": {
        "id": "3eu6Eu1Uoh_t"
      },
      "source": [
        "Estrutura para tratar exceções:"
      ]
    },
    {
      "cell_type": "code",
      "metadata": {
        "id": "S00K5ucnopBI",
        "colab": {
          "base_uri": "https://localhost:8080/"
        },
        "outputId": "3e825638-0b06-4786-b785-983582062f29"
      },
      "source": [
        "preco = 132.85\n",
        "pessoas = 0\n",
        "\n",
        "try:\n",
        "  valor_por_pessoa = preco / pessoas\n",
        "  print(valor_por_pessoa)\n",
        "except ZeroDivisionError:\n",
        "  print('Número de pessoas inválido. Espera-se um valor maior que 0 e obteve-se um valor igual a ' + str(pessoas))"
      ],
      "execution_count": 22,
      "outputs": [
        {
          "output_type": "stream",
          "name": "stdout",
          "text": [
            "Número de pessoas inválido. Espera-se um valor maior que 0 e obteve-se um valor igual a 0\n"
          ]
        }
      ]
    },
    {
      "cell_type": "code",
      "metadata": {
        "id": "xW1r3TMvpIxE",
        "colab": {
          "base_uri": "https://localhost:8080/"
        },
        "outputId": "73334c4b-3b75-40b7-c8f0-d4f48ddea1e9"
      },
      "source": [
        "anos = [2019, 2020, 2021]\n",
        "\n",
        "try:\n",
        "  ano_atual = anos[3]\n",
        "  print(ano_atual)\n",
        "except Exception:\n",
        "  print('Lista de anos é menor que o valor escolhido. Espera-se um valor entre 0 e ' + str(len(anos) - 1))"
      ],
      "execution_count": 23,
      "outputs": [
        {
          "output_type": "stream",
          "name": "stdout",
          "text": [
            "Lista de anos é menor que o valor escolhido. Espera-se um valor entre 0 e 2\n"
          ]
        }
      ]
    },
    {
      "cell_type": "code",
      "metadata": {
        "id": "CSxX6o_3pxCV",
        "colab": {
          "base_uri": "https://localhost:8080/"
        },
        "outputId": "f526f75c-b54e-43c0-c8c9-04bb4c94be3e"
      },
      "source": [
        "anos = [2019, 2020, 2021]\n",
        "\n",
        "try:\n",
        "  ano_atual = anos[3]\n",
        "  print(ano_atual)\n",
        "except Exception as exc:\n",
        "  print('Descrição da exceção: ' + str(exc))\n",
        "  print('Tipo da exceção: ' + str(type(exc)))\n",
        "  print('Lista de anos é menor que o valor escolhido. Espera-se um valor entre 0 e ' + str(len(anos) - 1))"
      ],
      "execution_count": 24,
      "outputs": [
        {
          "output_type": "stream",
          "name": "stdout",
          "text": [
            "Descrição da exceção: list index out of range\n",
            "Tipo da exceção: <class 'IndexError'>\n",
            "Lista de anos é menor que o valor escolhido. Espera-se um valor entre 0 e 2\n"
          ]
        }
      ]
    },
    {
      "cell_type": "code",
      "metadata": {
        "id": "f8f66yWuqKul",
        "colab": {
          "base_uri": "https://localhost:8080/"
        },
        "outputId": "564ab1e6-d26e-44de-ffbf-6334c5595b1d"
      },
      "source": [
        "anos = [2019, 2020, 2021]\n",
        "\n",
        "try:\n",
        "  ano_atual = anos[3]\n",
        "  print(ano_atual)\n",
        "except IndexError:\n",
        "  print('Lista de anos é menor que o valor escolhido. Espera-se um valor entre 0 e ' + str(len(anos) - 1))\n",
        "except Exception as exc:\n",
        "  print(exc)\n",
        "  print('Erro genérico')"
      ],
      "execution_count": 25,
      "outputs": [
        {
          "output_type": "stream",
          "name": "stdout",
          "text": [
            "Lista de anos é menor que o valor escolhido. Espera-se um valor entre 0 e 2\n"
          ]
        }
      ]
    },
    {
      "cell_type": "markdown",
      "metadata": {
        "id": "WxnG-e3HURrd"
      },
      "source": [
        "### **2.3. try / except / finally**"
      ]
    },
    {
      "cell_type": "code",
      "metadata": {
        "id": "i1e_Ag58qZ0n"
      },
      "source": [
        "nome = 'Andre Perez'\n",
        "idade = 19\n",
        "\n",
        "try:\n",
        "  apresentacao = 'Fala pessoal, meu nome é ' + nome + ' e eu tenho ' + idade + ' anos'\n",
        "  print(apresentacao)\n",
        "except TypeError:\n",
        "  idade = str(idade)\n",
        "finally:\n",
        "  print('Segunda chance')\n",
        "  apresentacao = 'Fala pessoal, meu nome é ' + nome + ' e eu tenho ' + idade + ' anos'\n",
        "  print(apresentacao)"
      ],
      "execution_count": null,
      "outputs": []
    },
    {
      "cell_type": "markdown",
      "metadata": {
        "id": "_4Ugey3GWq78"
      },
      "source": [
        "## 3\\. Estrutura repetição for / in"
      ]
    },
    {
      "cell_type": "markdown",
      "metadata": {
        "id": "cyA9LdYcBfeF"
      },
      "source": [
        "### **3.1. for / in**"
      ]
    },
    {
      "cell_type": "markdown",
      "metadata": {
        "id": "-F-0zD99Bv97"
      },
      "source": [
        "Estrutura que permite a execução repetida de um bloco de código repetidas vezes."
      ]
    },
    {
      "cell_type": "markdown",
      "metadata": {
        "id": "JyP2wUaUBjrp"
      },
      "source": [
        "```python\n",
        "for variavel_temporaria in coleção:\n",
        "  <execute este código>\n",
        "```"
      ]
    },
    {
      "cell_type": "markdown",
      "metadata": {
        "id": "lk9nsQkTWq7-"
      },
      "source": [
        "### **3.2. for / in / range**"
      ]
    },
    {
      "cell_type": "markdown",
      "metadata": {
        "id": "OHdGHUcN24u3"
      },
      "source": [
        "Estrutura que permite a execução repetida de um bloco de código **n** vezes."
      ]
    },
    {
      "cell_type": "code",
      "metadata": {
        "id": "D68uw4X024NQ",
        "colab": {
          "base_uri": "https://localhost:8080/"
        },
        "outputId": "002a8934-c6cf-4dc1-8bfc-167240162804"
      },
      "source": [
        "for valor in range(6):\n",
        "  print(valor)"
      ],
      "execution_count": 26,
      "outputs": [
        {
          "output_type": "stream",
          "name": "stdout",
          "text": [
            "0\n",
            "1\n",
            "2\n",
            "3\n",
            "4\n",
            "5\n"
          ]
        }
      ]
    },
    {
      "cell_type": "code",
      "metadata": {
        "id": "ZhKvc8BR3g0a",
        "colab": {
          "base_uri": "https://localhost:8080/"
        },
        "outputId": "1bb1c457-619e-4551-a442-c392a602b5d0"
      },
      "source": [
        "soma = 0\n",
        "\n",
        "for valor in range(0, 10):\n",
        "  soma = soma + valor\n",
        "  # print(soma)\n",
        "\n",
        "print(soma)"
      ],
      "execution_count": 29,
      "outputs": [
        {
          "output_type": "stream",
          "name": "stdout",
          "text": [
            "45\n"
          ]
        }
      ]
    },
    {
      "cell_type": "code",
      "metadata": {
        "id": "xvh2Imqy4YyU",
        "colab": {
          "base_uri": "https://localhost:8080/"
        },
        "outputId": "2d82c2b5-f95a-4fdb-fb00-ed255a7b4c97"
      },
      "source": [
        "for multiplo_dois in range(2, 10, 2):\n",
        "  print(multiplo_dois)"
      ],
      "execution_count": 30,
      "outputs": [
        {
          "output_type": "stream",
          "name": "stdout",
          "text": [
            "2\n",
            "4\n",
            "6\n",
            "8\n"
          ]
        }
      ]
    },
    {
      "cell_type": "markdown",
      "metadata": {
        "id": "5nmm_ShgWq7_"
      },
      "source": [
        "### **3.3. for / in / list**"
      ]
    },
    {
      "cell_type": "markdown",
      "metadata": {
        "id": "LB7Ghhx94ljq"
      },
      "source": [
        "Estrutura que permite a execução de um bloco de código para todos os elementos de uma lista."
      ]
    },
    {
      "cell_type": "code",
      "metadata": {
        "id": "z12p8IT-4s4U",
        "colab": {
          "base_uri": "https://localhost:8080/"
        },
        "outputId": "f5a687af-430e-4ce3-d195-4e39f3e5c65d"
      },
      "source": [
        "frutas = ['maca', 'banana', 'laranja', 'uva', 'pera']\n",
        "\n",
        "for fruta in frutas:\n",
        "  print(fruta)"
      ],
      "execution_count": 31,
      "outputs": [
        {
          "output_type": "stream",
          "name": "stdout",
          "text": [
            "maca\n",
            "banana\n",
            "laranja\n",
            "uva\n",
            "pera\n"
          ]
        }
      ]
    },
    {
      "cell_type": "code",
      "metadata": {
        "id": "3zkZ-gPU8diZ",
        "colab": {
          "base_uri": "https://localhost:8080/"
        },
        "outputId": "4c721b24-6774-473c-903e-7d82c6008d18"
      },
      "source": [
        "frase = 'Fala pessoal, meu nome é André Perez.'\n",
        "\n",
        "for caracter in frase:\n",
        "  if (caracter == 'A') | (caracter == 'z'):\n",
        "    print(f\"A letra '{caracter}' está presente na frase.\")"
      ],
      "execution_count": 34,
      "outputs": [
        {
          "output_type": "stream",
          "name": "stdout",
          "text": [
            "A letra 'A' está presente na frase.\n",
            "A letra 'z' está presente na frase.\n"
          ]
        }
      ]
    },
    {
      "cell_type": "markdown",
      "metadata": {
        "id": "GsUpIpUoXmhc"
      },
      "source": [
        "### **3.4. for / in / dict**"
      ]
    },
    {
      "cell_type": "markdown",
      "metadata": {
        "id": "xx38Jwu_7OJS"
      },
      "source": [
        "Estrutura que permite a execução de um bloco de código para todos os elementos de um dicionário."
      ]
    },
    {
      "cell_type": "code",
      "metadata": {
        "id": "Zo-LDBca7ULR"
      },
      "source": [
        "credito = {'123': 750, '456': 812, '789': 980}"
      ],
      "execution_count": 36,
      "outputs": []
    },
    {
      "cell_type": "code",
      "metadata": {
        "id": "-MI9OP197jUU",
        "colab": {
          "base_uri": "https://localhost:8080/"
        },
        "outputId": "0b41aac4-2fdb-4db6-ea3d-b98d8032d45f"
      },
      "source": [
        "for chave, valor in credito.items():\n",
        "  print(f'Para o documento {chave}, o valor do escore de crédito é {valor}.')\n",
        "  print('\\n')"
      ],
      "execution_count": 37,
      "outputs": [
        {
          "output_type": "stream",
          "name": "stdout",
          "text": [
            "Para o documento 123, o valor do escore de crédito é 750.\n",
            "\n",
            "\n",
            "Para o documento 456, o valor do escore de crédito é 812.\n",
            "\n",
            "\n",
            "Para o documento 789, o valor do escore de crédito é 980.\n",
            "\n",
            "\n"
          ]
        }
      ]
    },
    {
      "cell_type": "code",
      "metadata": {
        "id": "juFICibw76Ay",
        "colab": {
          "base_uri": "https://localhost:8080/"
        },
        "outputId": "2ded89e3-c8a5-43f0-8b0e-2d6c43063883"
      },
      "source": [
        "for chave in credito.keys():\n",
        "  print(chave)\n",
        "  print(credito[chave])\n",
        "  print(f'Para o documento {chave}, o valor do escore de crédito é {credito[chave]}.')\n",
        "  print('\\n')"
      ],
      "execution_count": 38,
      "outputs": [
        {
          "output_type": "stream",
          "name": "stdout",
          "text": [
            "123\n",
            "750\n",
            "Para o documento 123, o valor do escore de crédito é 750.\n",
            "\n",
            "\n",
            "456\n",
            "812\n",
            "Para o documento 456, o valor do escore de crédito é 812.\n",
            "\n",
            "\n",
            "789\n",
            "980\n",
            "Para o documento 789, o valor do escore de crédito é 980.\n",
            "\n",
            "\n"
          ]
        }
      ]
    },
    {
      "cell_type": "code",
      "metadata": {
        "id": "kocTkvpH8LsV",
        "colab": {
          "base_uri": "https://localhost:8080/"
        },
        "outputId": "408cc762-acec-4504-f3a7-1925f0e1d5a0"
      },
      "source": [
        "for valor in credito.values():\n",
        "  print(valor)\n",
        "  print(f'O valor do escore de crédito é {valor}, mas não temos mais as chaves.')\n",
        "  print('\\n')"
      ],
      "execution_count": 41,
      "outputs": [
        {
          "output_type": "stream",
          "name": "stdout",
          "text": [
            "750\n",
            "O valor do escore de crédito é 750, mas não temos mais as chaves.\n",
            "\n",
            "\n",
            "812\n",
            "O valor do escore de crédito é 812, mas não temos mais as chaves.\n",
            "\n",
            "\n",
            "980\n",
            "O valor do escore de crédito é 980, mas não temos mais as chaves.\n",
            "\n",
            "\n"
          ]
        }
      ]
    },
    {
      "cell_type": "markdown",
      "metadata": {
        "id": "NOh6bacJWq8A"
      },
      "source": [
        "### **3.5. break / continue**"
      ]
    },
    {
      "cell_type": "markdown",
      "metadata": {
        "id": "NzAhsgdE9Jw9"
      },
      "source": [
        "Estrutura que permite a quebra ou o avanço de um laço de repetição."
      ]
    },
    {
      "cell_type": "code",
      "metadata": {
        "id": "6G_zUh2t9TGk",
        "colab": {
          "base_uri": "https://localhost:8080/"
        },
        "outputId": "b81c80d9-eb7c-4c27-e086-2a9b4f37cafd"
      },
      "source": [
        "for i in range(0, 10*10*10*10*10*10):\n",
        "  print(i)\n",
        "  if i == 10:\n",
        "    break"
      ],
      "execution_count": 42,
      "outputs": [
        {
          "output_type": "stream",
          "name": "stdout",
          "text": [
            "0\n",
            "1\n",
            "2\n",
            "3\n",
            "4\n",
            "5\n",
            "6\n",
            "7\n",
            "8\n",
            "9\n",
            "10\n"
          ]
        }
      ]
    },
    {
      "cell_type": "code",
      "metadata": {
        "id": "tTDBNrwU9pie",
        "colab": {
          "base_uri": "https://localhost:8080/"
        },
        "outputId": "447b7b53-d395-4cf2-84b4-79557fd6a43f"
      },
      "source": [
        "numero = 3\n",
        "\n",
        "if numero % 2 == 0:\n",
        "  print(f'O numero {numero} é par')\n",
        "else:\n",
        "  print(f'O numero {numero} é impar')"
      ],
      "execution_count": 43,
      "outputs": [
        {
          "output_type": "stream",
          "name": "stdout",
          "text": [
            "O numero 3 é impar\n"
          ]
        }
      ]
    },
    {
      "cell_type": "code",
      "metadata": {
        "id": "Wd7P73u69_62",
        "colab": {
          "base_uri": "https://localhost:8080/"
        },
        "outputId": "10ec9cb8-dd11-4052-d656-9aefcac9e023"
      },
      "source": [
        "numeros = [361, 553, 194, 13, 510, 33, 135]\n",
        "\n",
        "for numero in numeros:\n",
        "\n",
        "  if numero % 2 == 0:\n",
        "    print(f'O numero {numero} é par')\n",
        "    break\n",
        "  else:\n",
        "    print(f'O numero {numero} é impar')"
      ],
      "execution_count": 44,
      "outputs": [
        {
          "output_type": "stream",
          "name": "stdout",
          "text": [
            "O numero 361 é impar\n",
            "O numero 553 é impar\n",
            "O numero 194 é par\n"
          ]
        }
      ]
    },
    {
      "cell_type": "code",
      "metadata": {
        "id": "O8y3bath-oEl",
        "colab": {
          "base_uri": "https://localhost:8080/"
        },
        "outputId": "0ea5ff38-f462-48b7-aa25-a89a4b73e773"
      },
      "source": [
        "numeros = [361, 553, 194, 13, 510, 33, 135]\n",
        "\n",
        "for numero in numeros:\n",
        "\n",
        "  if numero % 2 == 0:\n",
        "    print(f'O numero {numero} é par')\n",
        "    break\n",
        "  else:\n",
        "    continue\n",
        "    print(f'O numero {numero} é impar')"
      ],
      "execution_count": 45,
      "outputs": [
        {
          "output_type": "stream",
          "name": "stdout",
          "text": [
            "O numero 194 é par\n"
          ]
        }
      ]
    }
  ]
}